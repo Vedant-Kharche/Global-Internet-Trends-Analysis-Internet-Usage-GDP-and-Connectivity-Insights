{
  "nbformat": 4,
  "nbformat_minor": 0,
  "metadata": {
    "colab": {
      "provenance": []
    },
    "kernelspec": {
      "name": "python3",
      "display_name": "Python 3"
    },
    "language_info": {
      "name": "python"
    }
  },
  "cells": [
    {
      "cell_type": "code",
      "execution_count": null,
      "metadata": {
        "id": "_55etHrOY41R"
      },
      "outputs": [],
      "source": [
        "import pandas as pd\n",
        "\n",
        "\n",
        "df = pd.read_csv('gdp.csv')\n",
        "\n",
        "df_long = pd.melt(df, id_vars=['Country Name', 'Code'], var_name='Year', value_name='Value')\n",
        "\n",
        "df_long.reset_index(drop=True, inplace=True)\n",
        "\n",
        "\n",
        "df_long.to_excel('time_series_data_long_format.xlsx', index=False)\n"
      ]
    },
    {
      "cell_type": "code",
      "source": [
        "print(df_long.head())"
      ],
      "metadata": {
        "colab": {
          "base_uri": "https://localhost:8080/"
        },
        "id": "beu5pWKAZbmv",
        "outputId": "48c7767f-5e4a-4b53-bfbb-fb89c4fba2f7"
      },
      "execution_count": null,
      "outputs": [
        {
          "output_type": "stream",
          "name": "stdout",
          "text": [
            "                  Country Name Code  Year         Value\n",
            "0                        Aruba  ABW  1960           NaN\n",
            "1  Africa Eastern and Southern  AFE  1960  1.931311e+10\n",
            "2                  Afghanistan  AFG  1960  5.377778e+08\n",
            "3   Africa Western and Central  AFW  1960  1.040428e+10\n",
            "4                       Angola  AGO  1960           NaN\n"
          ]
        }
      ]
    },
    {
      "cell_type": "code",
      "source": [
        "df = pd.read_excel('time_series_data_long_format.xlsx')\n",
        "\n",
        "\n",
        "df_sorted = df.sort_values(by=['Country Name', 'Year'])\n",
        "\n",
        "print(df_sorted)"
      ],
      "metadata": {
        "colab": {
          "base_uri": "https://localhost:8080/"
        },
        "id": "vK4qNXa6aAdx",
        "outputId": "d4f0f661-ec9b-4836-b77b-674c5ee46020"
      },
      "execution_count": null,
      "outputs": [
        {
          "output_type": "stream",
          "name": "stdout",
          "text": [
            "      Country Name Code         Year         Value\n",
            "2      Afghanistan  AFG         1960  5.377778e+08\n",
            "268    Afghanistan  AFG         1961  5.488889e+08\n",
            "534    Afghanistan  AFG         1962  5.466667e+08\n",
            "800    Afghanistan  AFG         1963  7.511112e+08\n",
            "1066   Afghanistan  AFG         1964  8.000000e+08\n",
            "...            ...  ...          ...           ...\n",
            "15427     Zimbabwe  ZWE         2017  1.758489e+10\n",
            "15693     Zimbabwe  ZWE         2018  1.811554e+10\n",
            "15959     Zimbabwe  ZWE         2019  1.928429e+10\n",
            "16225     Zimbabwe  ZWE         2020  1.805117e+10\n",
            "16491     Zimbabwe  ZWE  Unnamed: 65           NaN\n",
            "\n",
            "[16492 rows x 4 columns]\n"
          ]
        }
      ]
    },
    {
      "cell_type": "code",
      "source": [
        "df_sorted.to_excel('Final Data.xlsx', index=False)"
      ],
      "metadata": {
        "id": "82myzBs5gvky"
      },
      "execution_count": null,
      "outputs": []
    },
    {
      "cell_type": "code",
      "source": [
        "\n",
        "df = pd.read_excel('time_series_data_long_format.xlsx')\n",
        "\n",
        "\n",
        "df['Year'] = pd.to_numeric(df['Year'], errors='coerce')\n",
        "\n",
        "\n",
        "df_filtered = df[df['Year'] > 1979]\n",
        "\n",
        "\n",
        "print(df_filtered)"
      ],
      "metadata": {
        "colab": {
          "base_uri": "https://localhost:8080/"
        },
        "id": "6HA47S-egNpg",
        "outputId": "e855961d-5f82-49ae-e22c-a92727b1b721"
      },
      "execution_count": null,
      "outputs": [
        {
          "output_type": "stream",
          "name": "stdout",
          "text": [
            "                      Country Name Code    Year         Value\n",
            "5320                         Aruba  ABW  1980.0           NaN\n",
            "5321   Africa Eastern and Southern  AFE  1980.0  1.565127e+11\n",
            "5322                   Afghanistan  AFG  1980.0  3.641723e+09\n",
            "5323    Africa Western and Central  AFW  1980.0  1.120313e+11\n",
            "5324                        Angola  AGO  1980.0  5.934074e+09\n",
            "...                            ...  ...     ...           ...\n",
            "16221                       Kosovo  XKX  2020.0  7.716925e+09\n",
            "16222                  Yemen, Rep.  YEM  2020.0           NaN\n",
            "16223                 South Africa  ZAF  2020.0  3.354421e+11\n",
            "16224                       Zambia  ZMB  2020.0  1.811063e+10\n",
            "16225                     Zimbabwe  ZWE  2020.0  1.805117e+10\n",
            "\n",
            "[10906 rows x 4 columns]\n"
          ]
        }
      ]
    },
    {
      "cell_type": "code",
      "source": [
        "\n",
        "df = pd.read_excel('time_series_data_long_format.xlsx')\n",
        "\n",
        "\n",
        "df['Year'] = pd.to_numeric(df['Year'], errors='coerce')\n",
        "\n",
        "\n",
        "df['Year'] = df['Year'].astype('Int64')\n",
        "\n",
        "\n",
        "df_filtered = df[df['Year'] > 1979]\n",
        "\n",
        "\n",
        "print(df_filtered)"
      ],
      "metadata": {
        "colab": {
          "base_uri": "https://localhost:8080/"
        },
        "id": "4vCbDa5Xgokh",
        "outputId": "c41bae20-75d7-45d8-fb8c-8a98ac5f9b63"
      },
      "execution_count": null,
      "outputs": [
        {
          "output_type": "stream",
          "name": "stdout",
          "text": [
            "                      Country Name Code  Year         Value\n",
            "5320                         Aruba  ABW  1980           NaN\n",
            "5321   Africa Eastern and Southern  AFE  1980  1.565127e+11\n",
            "5322                   Afghanistan  AFG  1980  3.641723e+09\n",
            "5323    Africa Western and Central  AFW  1980  1.120313e+11\n",
            "5324                        Angola  AGO  1980  5.934074e+09\n",
            "...                            ...  ...   ...           ...\n",
            "16221                       Kosovo  XKX  2020  7.716925e+09\n",
            "16222                  Yemen, Rep.  YEM  2020           NaN\n",
            "16223                 South Africa  ZAF  2020  3.354421e+11\n",
            "16224                       Zambia  ZMB  2020  1.811063e+10\n",
            "16225                     Zimbabwe  ZWE  2020  1.805117e+10\n",
            "\n",
            "[10906 rows x 4 columns]\n"
          ]
        }
      ]
    },
    {
      "cell_type": "code",
      "source": [
        "\n",
        "df_sorted = df_filtered.sort_values(by=['Country Name', 'Year'])\n",
        "\n",
        "print(df_sorted)"
      ],
      "metadata": {
        "colab": {
          "base_uri": "https://localhost:8080/"
        },
        "id": "JLSS0Beagwxw",
        "outputId": "d36c1564-de16-48bc-b96e-367f02e708bd"
      },
      "execution_count": null,
      "outputs": [
        {
          "output_type": "stream",
          "name": "stdout",
          "text": [
            "      Country Name Code  Year         Value\n",
            "5322   Afghanistan  AFG  1980  3.641723e+09\n",
            "5588   Afghanistan  AFG  1981  3.478788e+09\n",
            "5854   Afghanistan  AFG  1982           NaN\n",
            "6120   Afghanistan  AFG  1983           NaN\n",
            "6386   Afghanistan  AFG  1984           NaN\n",
            "...            ...  ...   ...           ...\n",
            "15161     Zimbabwe  ZWE  2016  2.054868e+10\n",
            "15427     Zimbabwe  ZWE  2017  1.758489e+10\n",
            "15693     Zimbabwe  ZWE  2018  1.811554e+10\n",
            "15959     Zimbabwe  ZWE  2019  1.928429e+10\n",
            "16225     Zimbabwe  ZWE  2020  1.805117e+10\n",
            "\n",
            "[10906 rows x 4 columns]\n"
          ]
        }
      ]
    },
    {
      "cell_type": "code",
      "source": [
        "df2 = pd.read_csv('Final.csv')\n",
        "\n",
        "# Merge the two datasets on 'Country' and 'Year'\n",
        "merged_df = pd.merge(df2, df_sorted, how='left', left_on=['Country Name', 'Year'], right_on=['Country Name', 'Year'])\n",
        "\n",
        "print(merged_df)"
      ],
      "metadata": {
        "colab": {
          "base_uri": "https://localhost:8080/"
        },
        "id": "rusRpuRdhliu",
        "outputId": "4518146f-688e-4963-d570-7ca6dd8a93f4"
      },
      "execution_count": null,
      "outputs": [
        {
          "output_type": "stream",
          "name": "stdout",
          "text": [
            "      Unnamed: 0 Country Name Code_x  Year  Cellular Subscription  \\\n",
            "0              0  Afghanistan    AFG  1980               0.000000   \n",
            "1              1  Afghanistan    AFG  1981               0.000000   \n",
            "2              2  Afghanistan    AFG  1982               0.000000   \n",
            "3              3  Afghanistan    AFG  1983               0.000000   \n",
            "4              4  Afghanistan    AFG  1984               0.000000   \n",
            "...          ...          ...    ...   ...                    ...   \n",
            "8862        8862     Zimbabwe    ZWE  2016              91.793457   \n",
            "8863        8863     Zimbabwe    ZWE  2017              98.985077   \n",
            "8864        8864     Zimbabwe    ZWE  2018              89.404869   \n",
            "8865        8865     Zimbabwe    ZWE  2019              90.102287   \n",
            "8866        8866     Zimbabwe    ZWE  2020              88.755806   \n",
            "\n",
            "      Internet Users(%)  No. of Internet Users  Broadband Subscription Code_y  \\\n",
            "0              0.000000                      0                0.000000    AFG   \n",
            "1              0.000000                      0                0.000000    AFG   \n",
            "2              0.000000                      0                0.000000    AFG   \n",
            "3              0.000000                      0                0.000000    AFG   \n",
            "4              0.000000                      0                0.000000    AFG   \n",
            "...                 ...                    ...                     ...    ...   \n",
            "8862          23.119989                3341464                1.217633    ZWE   \n",
            "8863          24.400000                3599269                1.315694    ZWE   \n",
            "8864          25.000000                3763048                1.406322    ZWE   \n",
            "8865          25.100000                3854006                1.395818    ZWE   \n",
            "8866          29.299999                4591211                1.368916    ZWE   \n",
            "\n",
            "             Value  \n",
            "0     3.641723e+09  \n",
            "1     3.478788e+09  \n",
            "2              NaN  \n",
            "3              NaN  \n",
            "4              NaN  \n",
            "...            ...  \n",
            "8862  2.054868e+10  \n",
            "8863  1.758489e+10  \n",
            "8864  1.811554e+10  \n",
            "8865  1.928429e+10  \n",
            "8866  1.805117e+10  \n",
            "\n",
            "[8867 rows x 10 columns]\n"
          ]
        }
      ]
    },
    {
      "cell_type": "code",
      "source": [
        "merged_df.to_excel('Final Data.xlsx', index=False)"
      ],
      "metadata": {
        "id": "eM2aP9cXihkz"
      },
      "execution_count": null,
      "outputs": []
    }
  ]
}